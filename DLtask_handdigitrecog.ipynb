{
  "nbformat": 4,
  "nbformat_minor": 0,
  "metadata": {
    "colab": {
      "provenance": [],
      "authorship_tag": "ABX9TyPG7wWYQxB4N/mPlpTtS5Vn",
      "include_colab_link": true
    },
    "kernelspec": {
      "name": "python3",
      "display_name": "Python 3"
    },
    "language_info": {
      "name": "python"
    }
  },
  "cells": [
    {
      "cell_type": "markdown",
      "metadata": {
        "id": "view-in-github",
        "colab_type": "text"
      },
      "source": [
        "<a href=\"https://colab.research.google.com/github/YousefAlaaeldin/hand-written-digit-classifier/blob/main/DLtask_handdigitrecog.ipynb\" target=\"_parent\"><img src=\"https://colab.research.google.com/assets/colab-badge.svg\" alt=\"Open In Colab\"/></a>"
      ]
    },
    {
      "cell_type": "markdown",
      "source": [
        "importing some of the needed libraries and functions\n",
        "\n",
        "\n",
        "---\n",
        "\n"
      ],
      "metadata": {
        "id": "mpSQ7Rbc7vwI"
      }
    },
    {
      "cell_type": "code",
      "execution_count": null,
      "metadata": {
        "id": "XCUPgyV47YfW"
      },
      "outputs": [],
      "source": [
        "from torchvision import datasets\n",
        "from torchvision.transforms import ToTensor\n",
        "from torch.utils.data import DataLoader\n",
        "import torch.nn as nn\n",
        "import torch.nn.functional as F\n",
        "import torch.optim as optim"
      ]
    },
    {
      "cell_type": "markdown",
      "source": [
        "downloads train data and splits to train and test data\n",
        "\n",
        "\n",
        "---\n",
        "\n"
      ],
      "metadata": {
        "id": "ITjaf-aS72GW"
      }
    },
    {
      "cell_type": "code",
      "source": [
        "train_data = datasets.MNIST(  #sets parameter for picking train data\n",
        "    root = 'data',\n",
        "    train = True,\n",
        "    transform= ToTensor(),\n",
        "    download = True\n",
        ")\n",
        "test_data = datasets.MNIST(   #sets parameter for picking train data\n",
        "    root = 'data',\n",
        "    train =False,\n",
        "    transform= ToTensor(),\n",
        "    download = True\n",
        ")"
      ],
      "metadata": {
        "colab": {
          "base_uri": "https://localhost:8080/"
        },
        "id": "vl-cDqzn8KPa",
        "outputId": "98a91ce8-46d4-48e7-f7fc-7b7de8daebd3"
      },
      "execution_count": null,
      "outputs": [
        {
          "output_type": "stream",
          "name": "stdout",
          "text": [
            "Downloading http://yann.lecun.com/exdb/mnist/train-images-idx3-ubyte.gz\n",
            "Downloading http://yann.lecun.com/exdb/mnist/train-images-idx3-ubyte.gz to data/MNIST/raw/train-images-idx3-ubyte.gz\n"
          ]
        },
        {
          "output_type": "stream",
          "name": "stderr",
          "text": [
            "100%|██████████| 9912422/9912422 [00:00<00:00, 103037187.53it/s]\n"
          ]
        },
        {
          "output_type": "stream",
          "name": "stdout",
          "text": [
            "Extracting data/MNIST/raw/train-images-idx3-ubyte.gz to data/MNIST/raw\n",
            "\n",
            "Downloading http://yann.lecun.com/exdb/mnist/train-labels-idx1-ubyte.gz\n",
            "Downloading http://yann.lecun.com/exdb/mnist/train-labels-idx1-ubyte.gz to data/MNIST/raw/train-labels-idx1-ubyte.gz\n"
          ]
        },
        {
          "output_type": "stream",
          "name": "stderr",
          "text": [
            "100%|██████████| 28881/28881 [00:00<00:00, 22748487.10it/s]\n"
          ]
        },
        {
          "output_type": "stream",
          "name": "stdout",
          "text": [
            "Extracting data/MNIST/raw/train-labels-idx1-ubyte.gz to data/MNIST/raw\n",
            "\n",
            "Downloading http://yann.lecun.com/exdb/mnist/t10k-images-idx3-ubyte.gz\n",
            "Downloading http://yann.lecun.com/exdb/mnist/t10k-images-idx3-ubyte.gz to data/MNIST/raw/t10k-images-idx3-ubyte.gz\n"
          ]
        },
        {
          "output_type": "stream",
          "name": "stderr",
          "text": [
            "100%|██████████| 1648877/1648877 [00:00<00:00, 33143990.74it/s]\n"
          ]
        },
        {
          "output_type": "stream",
          "name": "stdout",
          "text": [
            "Extracting data/MNIST/raw/t10k-images-idx3-ubyte.gz to data/MNIST/raw\n",
            "\n",
            "Downloading http://yann.lecun.com/exdb/mnist/t10k-labels-idx1-ubyte.gz\n",
            "Downloading http://yann.lecun.com/exdb/mnist/t10k-labels-idx1-ubyte.gz to data/MNIST/raw/t10k-labels-idx1-ubyte.gz\n"
          ]
        },
        {
          "output_type": "stream",
          "name": "stderr",
          "text": [
            "100%|██████████| 4542/4542 [00:00<00:00, 17574288.53it/s]\n"
          ]
        },
        {
          "output_type": "stream",
          "name": "stdout",
          "text": [
            "Extracting data/MNIST/raw/t10k-labels-idx1-ubyte.gz to data/MNIST/raw\n",
            "\n"
          ]
        }
      ]
    },
    {
      "cell_type": "markdown",
      "source": [
        "show info about the data to make sure\n",
        "\n",
        "---\n",
        "\n"
      ],
      "metadata": {
        "id": "hcx8idHz9CM1"
      }
    },
    {
      "cell_type": "code",
      "source": [
        "train_data"
      ],
      "metadata": {
        "colab": {
          "base_uri": "https://localhost:8080/"
        },
        "id": "l_-jjS3C88Pa",
        "outputId": "32b4d863-817b-4866-f5a9-94afd2bfe1f6"
      },
      "execution_count": null,
      "outputs": [
        {
          "output_type": "execute_result",
          "data": {
            "text/plain": [
              "Dataset MNIST\n",
              "    Number of datapoints: 60000\n",
              "    Root location: data\n",
              "    Split: Train\n",
              "    StandardTransform\n",
              "Transform: ToTensor()"
            ]
          },
          "metadata": {},
          "execution_count": 6
        }
      ]
    },
    {
      "cell_type": "code",
      "source": [
        "test_data"
      ],
      "metadata": {
        "colab": {
          "base_uri": "https://localhost:8080/"
        },
        "id": "xD10FiFd9Hi9",
        "outputId": "c6087ba0-76d5-4431-c4f5-d5a7168d70dd"
      },
      "execution_count": null,
      "outputs": [
        {
          "output_type": "execute_result",
          "data": {
            "text/plain": [
              "Dataset MNIST\n",
              "    Number of datapoints: 10000\n",
              "    Root location: data\n",
              "    Split: Test\n",
              "    StandardTransform\n",
              "Transform: ToTensor()"
            ]
          },
          "metadata": {},
          "execution_count": 5
        }
      ]
    },
    {
      "cell_type": "code",
      "source": [
        "train_data.targets  #shows the digits that are supposed to be\n",
        "                    #the correct target for each tensor transformed image"
      ],
      "metadata": {
        "colab": {
          "base_uri": "https://localhost:8080/"
        },
        "id": "lfeR6jnI9jQ0",
        "outputId": "dc42c20f-631d-49a1-fd78-a5fff502d124"
      },
      "execution_count": null,
      "outputs": [
        {
          "output_type": "execute_result",
          "data": {
            "text/plain": [
              "tensor([5, 0, 4,  ..., 5, 6, 8])"
            ]
          },
          "metadata": {},
          "execution_count": 8
        }
      ]
    },
    {
      "cell_type": "markdown",
      "source": [
        "Make the dataloaders to allow inputing the data in batches\n",
        "\n",
        "---\n",
        "\n",
        "\n",
        "\n"
      ],
      "metadata": {
        "id": "TwHDqBuy-PTu"
      }
    },
    {
      "cell_type": "code",
      "source": [
        "Loaders = {\n",
        "     'train' : DataLoader(train_data,batch_size=100,shuffle=True,num_workers=1),\n",
        "     'test' : DataLoader(test_data,batch_size=100,shuffle=True,num_workers=1)\n",
        "}"
      ],
      "metadata": {
        "id": "teDfOyL3-URP"
      },
      "execution_count": null,
      "outputs": []
    },
    {
      "cell_type": "markdown",
      "source": [
        "Define DL architechure and model\n",
        "\n",
        "---\n",
        "\n"
      ],
      "metadata": {
        "id": "NpvIeFxU_C-6"
      }
    },
    {
      "cell_type": "code",
      "source": [
        "\n",
        "class CNN(nn.Module):\n",
        "    def __init__(self):\n",
        "      super(CNN,self).__init__()\n",
        "\n",
        "      self.conv1 = nn.Conv2d(1,10,kernel_size=5)#defines first layer with 1 (going to be image tensor) to 10 connected convolutionaly\n",
        "      self.conv2 = nn.Conv2d(10,20,kernel_size=5) #defines another layer connected to first each 1 connected to 2 convolutionally\n",
        "      self.conv2_drop = nn.Dropout2d()         #defines that the second layer will have node drop out\n",
        "      self.fc1 = nn.Linear(320,50)             # defines the before the last layer connected linearly\n",
        "      self.fc2 = nn.Linear(50,10)              # defines that last layer connected linearly\n",
        "\n",
        "    def forward(self,x):            #defines the forwarding mechanism from start to last layer with each having its own activation function\n",
        "      x = F.relu(F.max_pool2d(self.conv1(x),2))\n",
        "      x = F.relu(F.max_pool2d(self.conv2_drop(self.conv2(x)),2))\n",
        "      x = x.view(-1,320)\n",
        "      x = F.relu(self.fc1(x))\n",
        "      x = F.dropout(x, training=self.training)\n",
        "      x = self.fc2(x)\n",
        "\n",
        "      return F.softmax(x)\n"
      ],
      "metadata": {
        "id": "v6RrKuOx_JfG"
      },
      "execution_count": null,
      "outputs": []
    },
    {
      "cell_type": "markdown",
      "source": [
        "Define training and testing processes\n",
        "\n",
        "---\n",
        "\n"
      ],
      "metadata": {
        "id": "XQ1Bo6yAGjOi"
      }
    },
    {
      "cell_type": "code",
      "source": [
        "import torch\n",
        "\n",
        "#define the device to work on , on GPU if the option is avalaiable cause it's faster\n",
        "device = torch.device('cuda' if torch.cuda.is_available() else 'cpu')\n",
        "\n",
        "#move the model  also the same device\n",
        "model=CNN().to(device)\n",
        "\n",
        "#define the optimization used\n",
        "optimizer = optim.Adam(model.parameters(),lr=0.0015)\n",
        "\n",
        "#define the loss function that will be used\n",
        "loss_fn = nn.CrossEntropyLoss()\n",
        "\n",
        "#define the training methodology\n",
        "def train(epoch):\n",
        "  model.train()      #put model in training mode\n",
        "  for batch_idx,(data, target) in enumerate(Loaders['train']):  #loop over data in the batches\n",
        "    data,target = data.to(device), target.to(device)            #make sure both data and target are on same device\n",
        "    optimizer.zero_grad()\n",
        "    output = model(data)      #get the supposed estimation of the model on the data\n",
        "    loss = loss_fn(output,target)   #calculate loss using chosen loss function\n",
        "    loss.backward()                 #backward propagate the loss\n",
        "    optimizer.step()                # take a step of the chosen learning rate towards the optimum\n",
        "    if batch_idx % 25 == 0:                                     #extra thing just to print as it processes how far its on and the loss and so\n",
        "      print(f'train Epoch:{epoch} [{batch_idx * len(data)}/{len(Loaders[\"train\"].dataset)} ({100.*batch_idx / len(Loaders[\"train\"]):.0f}%)]\\t{loss.item():.6f}')\n",
        "\n",
        "\n",
        "#define the test methodology\n",
        "def test():\n",
        "  model.eval()  #puts model in test mode\n",
        "\n",
        "  test_loss = 0     #initialize the loss and amount of correct to 0\n",
        "  correct = 0\n",
        "\n",
        "  with torch.no_grad():\n",
        "    for data,target in Loaders['test']:       #loop over the samples from the test batch loader\n",
        "      data,target = data.to(device),target.to(device)\n",
        "      output = model(data)\n",
        "      test_loss += loss_fn(output,target).item()\n",
        "      pred = output.argmax(dim=1,keepdim=True)\n",
        "      correct += pred.eq(target.view_as(pred)).sum().item()\n",
        "\n",
        "  test_loss /= len(Loaders['test'].dataset)\n",
        "  print(f'\\n Test set : Average loss: {test_loss:.4f}, Accuracy {correct}/{len(Loaders[\"test\"].dataset)} ({100.*correct / len(Loaders[\"test\"].dataset):.0f}%\\n)')\n"
      ],
      "metadata": {
        "id": "FH1pAb7UGnUK"
      },
      "execution_count": null,
      "outputs": []
    },
    {
      "cell_type": "markdown",
      "source": [
        "Start the actual training of the model\n",
        "and track the accuracy and test set\n",
        "\n",
        "---\n",
        "\n"
      ],
      "metadata": {
        "id": "-dzyv8YqXyOA"
      }
    },
    {
      "cell_type": "code",
      "source": [
        "for epoch in range (1,11):  #loop and train 10 epoch and test after each epoch\n",
        "  train(epoch)\n",
        "  test()"
      ],
      "metadata": {
        "colab": {
          "base_uri": "https://localhost:8080/"
        },
        "id": "JFzZXMN7UJf-",
        "outputId": "a632e4bd-fa02-440a-81dd-b61cd3ad08b8"
      },
      "execution_count": null,
      "outputs": [
        {
          "output_type": "stream",
          "name": "stderr",
          "text": [
            "<ipython-input-12-4e6c16025d4e>:19: UserWarning: Implicit dimension choice for softmax has been deprecated. Change the call to include dim=X as an argument.\n",
            "  return F.softmax(x)\n"
          ]
        },
        {
          "output_type": "stream",
          "name": "stdout",
          "text": [
            "train Epoch:1 [0/60000 (0%)]\t2.300255\n",
            "train Epoch:1 [2500/60000 (4%)]\t2.236735\n",
            "train Epoch:1 [5000/60000 (8%)]\t1.952381\n",
            "train Epoch:1 [7500/60000 (12%)]\t1.889873\n",
            "train Epoch:1 [10000/60000 (17%)]\t1.804284\n",
            "train Epoch:1 [12500/60000 (21%)]\t1.723781\n",
            "train Epoch:1 [15000/60000 (25%)]\t1.656133\n",
            "train Epoch:1 [17500/60000 (29%)]\t1.677721\n",
            "train Epoch:1 [20000/60000 (33%)]\t1.692346\n",
            "train Epoch:1 [22500/60000 (38%)]\t1.635952\n",
            "train Epoch:1 [25000/60000 (42%)]\t1.668103\n",
            "train Epoch:1 [27500/60000 (46%)]\t1.656957\n",
            "train Epoch:1 [30000/60000 (50%)]\t1.589320\n",
            "train Epoch:1 [32500/60000 (54%)]\t1.572518\n",
            "train Epoch:1 [35000/60000 (58%)]\t1.602110\n",
            "train Epoch:1 [37500/60000 (62%)]\t1.626725\n",
            "train Epoch:1 [40000/60000 (67%)]\t1.643706\n",
            "train Epoch:1 [42500/60000 (71%)]\t1.576327\n",
            "train Epoch:1 [45000/60000 (75%)]\t1.602623\n",
            "train Epoch:1 [47500/60000 (79%)]\t1.601004\n",
            "train Epoch:1 [50000/60000 (83%)]\t1.595660\n",
            "train Epoch:1 [52500/60000 (88%)]\t1.579942\n",
            "train Epoch:1 [55000/60000 (92%)]\t1.658153\n",
            "train Epoch:1 [57500/60000 (96%)]\t1.533129\n",
            "\n",
            " Test set : Average loss: 0.0152, Accuracy 9444/10000 (94%\n",
            ")\n",
            "train Epoch:2 [0/60000 (0%)]\t1.564588\n",
            "train Epoch:2 [2500/60000 (4%)]\t1.633819\n",
            "train Epoch:2 [5000/60000 (8%)]\t1.533640\n",
            "train Epoch:2 [7500/60000 (12%)]\t1.600214\n",
            "train Epoch:2 [10000/60000 (17%)]\t1.609530\n",
            "train Epoch:2 [12500/60000 (21%)]\t1.584559\n",
            "train Epoch:2 [15000/60000 (25%)]\t1.585469\n",
            "train Epoch:2 [17500/60000 (29%)]\t1.566839\n",
            "train Epoch:2 [20000/60000 (33%)]\t1.573391\n",
            "train Epoch:2 [22500/60000 (38%)]\t1.577667\n",
            "train Epoch:2 [25000/60000 (42%)]\t1.578438\n",
            "train Epoch:2 [27500/60000 (46%)]\t1.616668\n",
            "train Epoch:2 [30000/60000 (50%)]\t1.579174\n",
            "train Epoch:2 [32500/60000 (54%)]\t1.591037\n",
            "train Epoch:2 [35000/60000 (58%)]\t1.599834\n",
            "train Epoch:2 [37500/60000 (62%)]\t1.629258\n",
            "train Epoch:2 [40000/60000 (67%)]\t1.580628\n",
            "train Epoch:2 [42500/60000 (71%)]\t1.539425\n",
            "train Epoch:2 [45000/60000 (75%)]\t1.555856\n",
            "train Epoch:2 [47500/60000 (79%)]\t1.545188\n",
            "train Epoch:2 [50000/60000 (83%)]\t1.543463\n",
            "train Epoch:2 [52500/60000 (88%)]\t1.583575\n",
            "train Epoch:2 [55000/60000 (92%)]\t1.621332\n",
            "train Epoch:2 [57500/60000 (96%)]\t1.566728\n",
            "\n",
            " Test set : Average loss: 0.0150, Accuracy 9581/10000 (96%\n",
            ")\n",
            "train Epoch:3 [0/60000 (0%)]\t1.582177\n",
            "train Epoch:3 [2500/60000 (4%)]\t1.532533\n",
            "train Epoch:3 [5000/60000 (8%)]\t1.575928\n",
            "train Epoch:3 [7500/60000 (12%)]\t1.563516\n",
            "train Epoch:3 [10000/60000 (17%)]\t1.574191\n",
            "train Epoch:3 [12500/60000 (21%)]\t1.567858\n",
            "train Epoch:3 [15000/60000 (25%)]\t1.569930\n",
            "train Epoch:3 [17500/60000 (29%)]\t1.543314\n",
            "train Epoch:3 [20000/60000 (33%)]\t1.544025\n",
            "train Epoch:3 [22500/60000 (38%)]\t1.570664\n",
            "train Epoch:3 [25000/60000 (42%)]\t1.554401\n",
            "train Epoch:3 [27500/60000 (46%)]\t1.518077\n",
            "train Epoch:3 [30000/60000 (50%)]\t1.543927\n",
            "train Epoch:3 [32500/60000 (54%)]\t1.525056\n",
            "train Epoch:3 [35000/60000 (58%)]\t1.522260\n",
            "train Epoch:3 [37500/60000 (62%)]\t1.533560\n",
            "train Epoch:3 [40000/60000 (67%)]\t1.537553\n",
            "train Epoch:3 [42500/60000 (71%)]\t1.522566\n",
            "train Epoch:3 [45000/60000 (75%)]\t1.515716\n",
            "train Epoch:3 [47500/60000 (79%)]\t1.550891\n",
            "train Epoch:3 [50000/60000 (83%)]\t1.574039\n",
            "train Epoch:3 [52500/60000 (88%)]\t1.576680\n",
            "train Epoch:3 [55000/60000 (92%)]\t1.533052\n",
            "train Epoch:3 [57500/60000 (96%)]\t1.535882\n",
            "\n",
            " Test set : Average loss: 0.0150, Accuracy 9611/10000 (96%\n",
            ")\n",
            "train Epoch:4 [0/60000 (0%)]\t1.526214\n",
            "train Epoch:4 [2500/60000 (4%)]\t1.534426\n",
            "train Epoch:4 [5000/60000 (8%)]\t1.519184\n",
            "train Epoch:4 [7500/60000 (12%)]\t1.507547\n",
            "train Epoch:4 [10000/60000 (17%)]\t1.515462\n",
            "train Epoch:4 [12500/60000 (21%)]\t1.535696\n",
            "train Epoch:4 [15000/60000 (25%)]\t1.590968\n",
            "train Epoch:4 [17500/60000 (29%)]\t1.543593\n",
            "train Epoch:4 [20000/60000 (33%)]\t1.554088\n",
            "train Epoch:4 [22500/60000 (38%)]\t1.563580\n",
            "train Epoch:4 [25000/60000 (42%)]\t1.580915\n",
            "train Epoch:4 [27500/60000 (46%)]\t1.542787\n",
            "train Epoch:4 [30000/60000 (50%)]\t1.527109\n",
            "train Epoch:4 [32500/60000 (54%)]\t1.548600\n",
            "train Epoch:4 [35000/60000 (58%)]\t1.564272\n",
            "train Epoch:4 [37500/60000 (62%)]\t1.552068\n",
            "train Epoch:4 [40000/60000 (67%)]\t1.530910\n",
            "train Epoch:4 [42500/60000 (71%)]\t1.517816\n",
            "train Epoch:4 [45000/60000 (75%)]\t1.501969\n",
            "train Epoch:4 [47500/60000 (79%)]\t1.518556\n",
            "train Epoch:4 [50000/60000 (83%)]\t1.559436\n",
            "train Epoch:4 [52500/60000 (88%)]\t1.550830\n",
            "train Epoch:4 [55000/60000 (92%)]\t1.526212\n",
            "train Epoch:4 [57500/60000 (96%)]\t1.524560\n",
            "\n",
            " Test set : Average loss: 0.0150, Accuracy 9659/10000 (97%\n",
            ")\n",
            "train Epoch:5 [0/60000 (0%)]\t1.512188\n",
            "train Epoch:5 [2500/60000 (4%)]\t1.503576\n",
            "train Epoch:5 [5000/60000 (8%)]\t1.574546\n",
            "train Epoch:5 [7500/60000 (12%)]\t1.551833\n",
            "train Epoch:5 [10000/60000 (17%)]\t1.512474\n",
            "train Epoch:5 [12500/60000 (21%)]\t1.548371\n",
            "train Epoch:5 [15000/60000 (25%)]\t1.529932\n",
            "train Epoch:5 [17500/60000 (29%)]\t1.552812\n",
            "train Epoch:5 [20000/60000 (33%)]\t1.513206\n",
            "train Epoch:5 [22500/60000 (38%)]\t1.578568\n",
            "train Epoch:5 [25000/60000 (42%)]\t1.529966\n",
            "train Epoch:5 [27500/60000 (46%)]\t1.521012\n",
            "train Epoch:5 [30000/60000 (50%)]\t1.534945\n",
            "train Epoch:5 [32500/60000 (54%)]\t1.566532\n",
            "train Epoch:5 [35000/60000 (58%)]\t1.540030\n",
            "train Epoch:5 [37500/60000 (62%)]\t1.546112\n",
            "train Epoch:5 [40000/60000 (67%)]\t1.512281\n",
            "train Epoch:5 [42500/60000 (71%)]\t1.562310\n",
            "train Epoch:5 [45000/60000 (75%)]\t1.521414\n",
            "train Epoch:5 [47500/60000 (79%)]\t1.522341\n",
            "train Epoch:5 [50000/60000 (83%)]\t1.613651\n",
            "train Epoch:5 [52500/60000 (88%)]\t1.531973\n",
            "train Epoch:5 [55000/60000 (92%)]\t1.523969\n",
            "train Epoch:5 [57500/60000 (96%)]\t1.528475\n",
            "\n",
            " Test set : Average loss: 0.0149, Accuracy 9684/10000 (97%\n",
            ")\n",
            "train Epoch:6 [0/60000 (0%)]\t1.574772\n",
            "train Epoch:6 [2500/60000 (4%)]\t1.617228\n",
            "train Epoch:6 [5000/60000 (8%)]\t1.566618\n",
            "train Epoch:6 [7500/60000 (12%)]\t1.524022\n",
            "train Epoch:6 [10000/60000 (17%)]\t1.493910\n",
            "train Epoch:6 [12500/60000 (21%)]\t1.525389\n",
            "train Epoch:6 [15000/60000 (25%)]\t1.524340\n",
            "train Epoch:6 [17500/60000 (29%)]\t1.512047\n",
            "train Epoch:6 [20000/60000 (33%)]\t1.580042\n",
            "train Epoch:6 [22500/60000 (38%)]\t1.539028\n",
            "train Epoch:6 [25000/60000 (42%)]\t1.486731\n",
            "train Epoch:6 [27500/60000 (46%)]\t1.523230\n",
            "train Epoch:6 [30000/60000 (50%)]\t1.525430\n",
            "train Epoch:6 [32500/60000 (54%)]\t1.532963\n",
            "train Epoch:6 [35000/60000 (58%)]\t1.550575\n",
            "train Epoch:6 [37500/60000 (62%)]\t1.506749\n",
            "train Epoch:6 [40000/60000 (67%)]\t1.498183\n",
            "train Epoch:6 [42500/60000 (71%)]\t1.520609\n",
            "train Epoch:6 [45000/60000 (75%)]\t1.521080\n",
            "train Epoch:6 [47500/60000 (79%)]\t1.502268\n",
            "train Epoch:6 [50000/60000 (83%)]\t1.579916\n",
            "train Epoch:6 [52500/60000 (88%)]\t1.527817\n",
            "train Epoch:6 [55000/60000 (92%)]\t1.537533\n",
            "train Epoch:6 [57500/60000 (96%)]\t1.487935\n",
            "\n",
            " Test set : Average loss: 0.0149, Accuracy 9696/10000 (97%\n",
            ")\n",
            "train Epoch:7 [0/60000 (0%)]\t1.574911\n",
            "train Epoch:7 [2500/60000 (4%)]\t1.562976\n",
            "train Epoch:7 [5000/60000 (8%)]\t1.522911\n",
            "train Epoch:7 [7500/60000 (12%)]\t1.509053\n",
            "train Epoch:7 [10000/60000 (17%)]\t1.540041\n",
            "train Epoch:7 [12500/60000 (21%)]\t1.504410\n",
            "train Epoch:7 [15000/60000 (25%)]\t1.537419\n",
            "train Epoch:7 [17500/60000 (29%)]\t1.508663\n",
            "train Epoch:7 [20000/60000 (33%)]\t1.509151\n",
            "train Epoch:7 [22500/60000 (38%)]\t1.502519\n",
            "train Epoch:7 [25000/60000 (42%)]\t1.520248\n",
            "train Epoch:7 [27500/60000 (46%)]\t1.529595\n",
            "train Epoch:7 [30000/60000 (50%)]\t1.538587\n",
            "train Epoch:7 [32500/60000 (54%)]\t1.523499\n",
            "train Epoch:7 [35000/60000 (58%)]\t1.550853\n",
            "train Epoch:7 [37500/60000 (62%)]\t1.515804\n",
            "train Epoch:7 [40000/60000 (67%)]\t1.565219\n",
            "train Epoch:7 [42500/60000 (71%)]\t1.569273\n",
            "train Epoch:7 [45000/60000 (75%)]\t1.554562\n",
            "train Epoch:7 [47500/60000 (79%)]\t1.574161\n",
            "train Epoch:7 [50000/60000 (83%)]\t1.544272\n",
            "train Epoch:7 [52500/60000 (88%)]\t1.545167\n",
            "train Epoch:7 [55000/60000 (92%)]\t1.567059\n",
            "train Epoch:7 [57500/60000 (96%)]\t1.520934\n",
            "\n",
            " Test set : Average loss: 0.0149, Accuracy 9721/10000 (97%\n",
            ")\n",
            "train Epoch:8 [0/60000 (0%)]\t1.539469\n",
            "train Epoch:8 [2500/60000 (4%)]\t1.541051\n",
            "train Epoch:8 [5000/60000 (8%)]\t1.524884\n",
            "train Epoch:8 [7500/60000 (12%)]\t1.534626\n",
            "train Epoch:8 [10000/60000 (17%)]\t1.506299\n",
            "train Epoch:8 [12500/60000 (21%)]\t1.535952\n",
            "train Epoch:8 [15000/60000 (25%)]\t1.519627\n",
            "train Epoch:8 [17500/60000 (29%)]\t1.526956\n",
            "train Epoch:8 [20000/60000 (33%)]\t1.541668\n",
            "train Epoch:8 [22500/60000 (38%)]\t1.548390\n",
            "train Epoch:8 [25000/60000 (42%)]\t1.527614\n",
            "train Epoch:8 [27500/60000 (46%)]\t1.514415\n",
            "train Epoch:8 [30000/60000 (50%)]\t1.535054\n",
            "train Epoch:8 [32500/60000 (54%)]\t1.511633\n",
            "train Epoch:8 [35000/60000 (58%)]\t1.548989\n",
            "train Epoch:8 [37500/60000 (62%)]\t1.488037\n",
            "train Epoch:8 [40000/60000 (67%)]\t1.514662\n",
            "train Epoch:8 [42500/60000 (71%)]\t1.539303\n",
            "train Epoch:8 [45000/60000 (75%)]\t1.584677\n",
            "train Epoch:8 [47500/60000 (79%)]\t1.533647\n",
            "train Epoch:8 [50000/60000 (83%)]\t1.526326\n",
            "train Epoch:8 [52500/60000 (88%)]\t1.508237\n",
            "train Epoch:8 [55000/60000 (92%)]\t1.546644\n",
            "train Epoch:8 [57500/60000 (96%)]\t1.536689\n",
            "\n",
            " Test set : Average loss: 0.0149, Accuracy 9718/10000 (97%\n",
            ")\n",
            "train Epoch:9 [0/60000 (0%)]\t1.509675\n",
            "train Epoch:9 [2500/60000 (4%)]\t1.508090\n",
            "train Epoch:9 [5000/60000 (8%)]\t1.539611\n",
            "train Epoch:9 [7500/60000 (12%)]\t1.494857\n",
            "train Epoch:9 [10000/60000 (17%)]\t1.487284\n",
            "train Epoch:9 [12500/60000 (21%)]\t1.504559\n",
            "train Epoch:9 [15000/60000 (25%)]\t1.521891\n",
            "train Epoch:9 [17500/60000 (29%)]\t1.489040\n",
            "train Epoch:9 [20000/60000 (33%)]\t1.516430\n",
            "train Epoch:9 [22500/60000 (38%)]\t1.484577\n",
            "train Epoch:9 [25000/60000 (42%)]\t1.497373\n",
            "train Epoch:9 [27500/60000 (46%)]\t1.526037\n",
            "train Epoch:9 [30000/60000 (50%)]\t1.591780\n",
            "train Epoch:9 [32500/60000 (54%)]\t1.521077\n",
            "train Epoch:9 [35000/60000 (58%)]\t1.560341\n",
            "train Epoch:9 [37500/60000 (62%)]\t1.480641\n",
            "train Epoch:9 [40000/60000 (67%)]\t1.581429\n",
            "train Epoch:9 [42500/60000 (71%)]\t1.477223\n",
            "train Epoch:9 [45000/60000 (75%)]\t1.514516\n",
            "train Epoch:9 [47500/60000 (79%)]\t1.502228\n",
            "train Epoch:9 [50000/60000 (83%)]\t1.476960\n",
            "train Epoch:9 [52500/60000 (88%)]\t1.528106\n",
            "train Epoch:9 [55000/60000 (92%)]\t1.530442\n",
            "train Epoch:9 [57500/60000 (96%)]\t1.511931\n",
            "\n",
            " Test set : Average loss: 0.0149, Accuracy 9743/10000 (97%\n",
            ")\n",
            "train Epoch:10 [0/60000 (0%)]\t1.520083\n",
            "train Epoch:10 [2500/60000 (4%)]\t1.602852\n",
            "train Epoch:10 [5000/60000 (8%)]\t1.569375\n",
            "train Epoch:10 [7500/60000 (12%)]\t1.510452\n",
            "train Epoch:10 [10000/60000 (17%)]\t1.520107\n",
            "train Epoch:10 [12500/60000 (21%)]\t1.527857\n",
            "train Epoch:10 [15000/60000 (25%)]\t1.524687\n",
            "train Epoch:10 [17500/60000 (29%)]\t1.545025\n",
            "train Epoch:10 [20000/60000 (33%)]\t1.501989\n",
            "train Epoch:10 [22500/60000 (38%)]\t1.494644\n",
            "train Epoch:10 [25000/60000 (42%)]\t1.516949\n",
            "train Epoch:10 [27500/60000 (46%)]\t1.522213\n",
            "train Epoch:10 [30000/60000 (50%)]\t1.497468\n",
            "train Epoch:10 [32500/60000 (54%)]\t1.517756\n",
            "train Epoch:10 [35000/60000 (58%)]\t1.564338\n",
            "train Epoch:10 [37500/60000 (62%)]\t1.552916\n",
            "train Epoch:10 [40000/60000 (67%)]\t1.561208\n",
            "train Epoch:10 [42500/60000 (71%)]\t1.503580\n",
            "train Epoch:10 [45000/60000 (75%)]\t1.524430\n",
            "train Epoch:10 [47500/60000 (79%)]\t1.579573\n",
            "train Epoch:10 [50000/60000 (83%)]\t1.517757\n",
            "train Epoch:10 [52500/60000 (88%)]\t1.525476\n",
            "train Epoch:10 [55000/60000 (92%)]\t1.554355\n",
            "train Epoch:10 [57500/60000 (96%)]\t1.502706\n",
            "\n",
            " Test set : Average loss: 0.0149, Accuracy 9752/10000 (98%\n",
            ")\n"
          ]
        }
      ]
    },
    {
      "cell_type": "markdown",
      "source": [
        "sadly i dont have GPU option :(\n",
        "\n",
        "---\n",
        "\n"
      ],
      "metadata": {
        "id": "p1Gsx9iaZe2w"
      }
    },
    {
      "cell_type": "code",
      "source": [
        "device"
      ],
      "metadata": {
        "colab": {
          "base_uri": "https://localhost:8080/"
        },
        "id": "n7RRCbTWZFo5",
        "outputId": "0a237316-43b4-46e9-8321-9c8a96cb1af5"
      },
      "execution_count": null,
      "outputs": [
        {
          "output_type": "execute_result",
          "data": {
            "text/plain": [
              "device(type='cpu')"
            ]
          },
          "metadata": {},
          "execution_count": 18
        }
      ]
    },
    {
      "cell_type": "markdown",
      "source": [
        "visualize some of the samples"
      ],
      "metadata": {
        "id": "0p21C52cZo-s"
      }
    },
    {
      "cell_type": "code",
      "source": [
        "import matplotlib.pyplot as plt\n",
        "\n",
        "model.eval()\n",
        "\n",
        "for sample_idx in range (0,3):\n",
        "  data,target = test_data[sample_idx]\n",
        "  data = data.unsqueeze(0).to(device)\n",
        "  output =  model(data)\n",
        "  prediction = output.argmax(dim = 1,keepdim=True).item()\n",
        "\n",
        "  print(f'prediction : {prediction}')\n",
        "\n",
        "  image =  data.squeeze(0).squeeze(0).cpu().numpy()\n",
        "\n",
        "  plt.imshow(image,cmap='gray')\n",
        "  plt.show()"
      ],
      "metadata": {
        "colab": {
          "base_uri": "https://localhost:8080/",
          "height": 1000
        },
        "id": "pVEes8rzZKqt",
        "outputId": "dcb0f5de-cf06-40bd-d42d-a5057910d106"
      },
      "execution_count": null,
      "outputs": [
        {
          "output_type": "stream",
          "name": "stdout",
          "text": [
            "prediction : 7\n"
          ]
        },
        {
          "output_type": "stream",
          "name": "stderr",
          "text": [
            "<ipython-input-12-4e6c16025d4e>:19: UserWarning: Implicit dimension choice for softmax has been deprecated. Change the call to include dim=X as an argument.\n",
            "  return F.softmax(x)\n"
          ]
        },
        {
          "output_type": "display_data",
          "data": {
            "text/plain": [
              "<Figure size 640x480 with 1 Axes>"
            ],
            "image/png": "[encoded data removed]"
          },
          "metadata": {}
        },
        {
          "output_type": "stream",
          "name": "stdout",
          "text": [
            "prediction : 2\n"
          ]
        },
        {
          "output_type": "display_data",
          "data": {
            "text/plain": [
              "<Figure size 640x480 with 1 Axes>"
            ],
            "image/png": "[encoded data removed]"
          },
          "metadata": {}
        },
        {
          "output_type": "stream",
          "name": "stdout",
          "text": [
            "prediction : 1\n"
          ]
        },
        {
          "output_type": "display_data",
          "data": {
            "text/plain": [
              "<Figure size 640x480 with 1 Axes>"
            ],
            "image/png": "[encoded data removed]"
          },
          "metadata": {}
        }
      ]
    }
  ]
}